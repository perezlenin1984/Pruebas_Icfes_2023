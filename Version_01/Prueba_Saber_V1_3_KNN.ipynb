{
  "nbformat": 4,
  "nbformat_minor": 0,
  "metadata": {
    "colab": {
      "provenance": [],
      "authorship_tag": "ABX9TyORNOg1c0bBNpi6V7NNn3rf",
      "include_colab_link": true
    },
    "kernelspec": {
      "name": "python3",
      "display_name": "Python 3"
    },
    "language_info": {
      "name": "python"
    }
  },
  "cells": [
    {
      "cell_type": "markdown",
      "metadata": {
        "id": "view-in-github",
        "colab_type": "text"
      },
      "source": [
        "<a href=\"https://colab.research.google.com/github/perezlenin1984/Pruebas_Icfes_2023/blob/main/Version_01/Prueba_Saber_V1_3_KNN.ipynb\" target=\"_parent\"><img src=\"https://colab.research.google.com/assets/colab-badge.svg\" alt=\"Open In Colab\"/></a>"
      ]
    },
    {
      "cell_type": "markdown",
      "source": [
        "**TALENTOTECH Y MINTIC**\n",
        "\n",
        "**BOOTCAMP: ANÁLISIS Y VISUALIZACIÓN DE DATOS**\n",
        "\n",
        "**PROYECTO: PRUEBAS SABER 11-2023 BOGOTÁ**\n",
        "\n",
        "**NOTEBOOK VERSIÓN 1.3: KNN eliminando todos los valores nulos**\n",
        "\n",
        "**Profesor:** Ingeniero José Albeiro Montes Gil\n",
        "\n",
        "**Equipo de trabajo:**\n",
        "\n",
        "Lenin Hernando Pérez\n",
        "\n",
        "Diana Carolina Valencia\n",
        "\n",
        "Edwin Tumay Mojica"
      ],
      "metadata": {
        "id": "JT_-FOAC_bl3"
      }
    },
    {
      "cell_type": "markdown",
      "source": [
        "**Importar las bibliotecas**"
      ],
      "metadata": {
        "id": "Ij4rj96x8qZi"
      }
    },
    {
      "cell_type": "code",
      "execution_count": 1,
      "metadata": {
        "id": "282U5wvr_BDH"
      },
      "outputs": [],
      "source": [
        "import pandas as pd\n",
        "import matplotlib.pyplot as plt\n",
        "import seaborn as sns\n",
        "import numpy as np\n",
        "import math"
      ]
    },
    {
      "cell_type": "markdown",
      "source": [
        "**Cargar los datos**"
      ],
      "metadata": {
        "id": "veHv0Qu18xma"
      }
    },
    {
      "cell_type": "code",
      "source": [
        "df1 = pd.read_excel('/content/Icfes2023-A.xlsx')\n",
        "df2 = pd.read_excel('/content/Icfes2023-B.xlsx')"
      ],
      "metadata": {
        "id": "6qCTkaQ5Ai4-"
      },
      "execution_count": 2,
      "outputs": []
    },
    {
      "cell_type": "code",
      "source": [
        "#Obtener las columnas que tienen en común df1 y df2\n",
        "col_comun = list(set(df1.columns)&set(df2.columns))\n",
        "#Preparar los nuevos df de acuerdo con las columnas que tienen en común\n",
        "df1_comun = df1[col_comun]\n",
        "df2_comun = df2[col_comun]\n",
        "#Concatenar df1_comun con df2_comun\n",
        "merged_df = pd.concat([df1_comun, df2_comun], ignore_index=True)\n",
        "#Información básica de las columnas de merged_df\n",
        "merged_df.info()"
      ],
      "metadata": {
        "colab": {
          "base_uri": "https://localhost:8080/"
        },
        "id": "jNZI5c_hDi_a",
        "outputId": "6eb851a6-90e4-42fb-c6df-320f43e81bd4"
      },
      "execution_count": 3,
      "outputs": [
        {
          "output_type": "stream",
          "name": "stdout",
          "text": [
            "<class 'pandas.core.frame.DataFrame'>\n",
            "RangeIndex: 80847 entries, 0 to 80846\n",
            "Data columns (total 60 columns):\n",
            " #   Column                         Non-Null Count  Dtype         \n",
            "---  ------                         --------------  -----         \n",
            " 0   FAMI_TIENESERVICIOTV           75913 non-null  object        \n",
            " 1   PUNT_SOCIALES_CIUDADANAS       80847 non-null  int64         \n",
            " 2   COLE_CODIGO_ICFES              80847 non-null  int64         \n",
            " 3   ESTU_HORASSEMANATRABAJA        77633 non-null  object        \n",
            " 4   PUNT_GLOBAL                    80847 non-null  int64         \n",
            " 5   FAMI_CUARTOSHOGAR              77571 non-null  object        \n",
            " 6   ESTU_NSE_ESTABLECIMIENTO       80847 non-null  int64         \n",
            " 7   COLE_CALENDARIO                80847 non-null  object        \n",
            " 8   FAMI_COMECARNEPESCADOHUEVO     75766 non-null  object        \n",
            " 9   COLE_NOMBRE_ESTABLECIMIENTO    80847 non-null  object        \n",
            " 10  ESTU_DEPTO_RESIDE              80847 non-null  object        \n",
            " 11  COLE_SEDE_PRINCIPAL            80847 non-null  object        \n",
            " 12  PUNT_LECTURA_CRITICA           80847 non-null  int64         \n",
            " 13  COLE_COD_DEPTO_UBICACION       80847 non-null  int64         \n",
            " 14  ESTU_PRIVADO_LIBERTAD          80847 non-null  object        \n",
            " 15  COLE_COD_MCPIO_UBICACION       80847 non-null  int64         \n",
            " 16  COLE_JORNADA                   80847 non-null  object        \n",
            " 17  ESTU_MCPIO_RESIDE              80847 non-null  object        \n",
            " 18  FAMI_TRABAJOLABORPADRE         77592 non-null  object        \n",
            " 19  FAMI_NUMLIBROS                 75558 non-null  object        \n",
            " 20  FAMI_TRABAJOLABORMADRE         77620 non-null  object        \n",
            " 21  COLE_AREA_UBICACION            80847 non-null  object        \n",
            " 22  COLE_MCPIO_UBICACION           80847 non-null  object        \n",
            " 23  COLE_DEPTO_UBICACION           80847 non-null  object        \n",
            " 24  ESTU_COD_MCPIO_PRESENTACION    80847 non-null  int64         \n",
            " 25  ESTU_INSE_INDIVIDUAL           77591 non-null  float64       \n",
            " 26  FAMI_TIENEHORNOMICROOGAS       77632 non-null  object        \n",
            " 27  ESTU_GENERO                    80847 non-null  object        \n",
            " 28  FAMI_EDUCACIONMADRE            76133 non-null  object        \n",
            " 29  ESTU_MCPIO_PRESENTACION        80847 non-null  object        \n",
            " 30  FAMI_TIENEAUTOMOVIL            77553 non-null  object        \n",
            " 31  FAMI_TIENECONSOLAVIDEOJUEGOS   77584 non-null  object        \n",
            " 32  ESTU_DEDICACIONLECTURADIARIA   75896 non-null  object        \n",
            " 33  ESTU_TIPOREMUNERACION          77520 non-null  object        \n",
            " 34  FAMI_TIENELAVADORA             77673 non-null  object        \n",
            " 35  ESTU_FECHANACIMIENTO           80847 non-null  datetime64[ns]\n",
            " 36  FAMI_COMELECHEDERIVADOS        75155 non-null  object        \n",
            " 37  COLE_BILINGUE                  65186 non-null  object        \n",
            " 38  FAMI_TIENECOMPUTADOR           77675 non-null  object        \n",
            " 39  FAMI_ESTRATOVIVIENDA           75834 non-null  object        \n",
            " 40  FAMI_SITUACIONECONOMICA        77384 non-null  object        \n",
            " 41  ESTU_COD_DEPTO_PRESENTACION    80847 non-null  int64         \n",
            " 42  ESTU_NSE_INDIVIDUAL            77591 non-null  float64       \n",
            " 43  PUNT_C_NATURALES               80847 non-null  int64         \n",
            " 44  COLE_COD_DANE_ESTABLECIMIENTO  80847 non-null  int64         \n",
            " 45  FAMI_TIENEMOTOCICLETA          77584 non-null  object        \n",
            " 46  ESTU_DEPTO_PRESENTACION        80847 non-null  object        \n",
            " 47  COLE_NOMBRE_SEDE               80847 non-null  object        \n",
            " 48  ESTU_PRESENTACIONSABADO        80699 non-null  object        \n",
            " 49  COLE_CARACTER                  77102 non-null  object        \n",
            " 50  COLE_GENERO                    80847 non-null  object        \n",
            " 51  FAMI_EDUCACIONPADRE            76179 non-null  object        \n",
            " 52  COLE_COD_DANE_SEDE             80847 non-null  int64         \n",
            " 53  FAMI_TIENEINTERNET             76073 non-null  object        \n",
            " 54  FAMI_PERSONASHOGAR             77721 non-null  object        \n",
            " 55  COLE_NATURALEZA                80847 non-null  object        \n",
            " 56  ESTU_DEDICACIONINTERNET        75769 non-null  object        \n",
            " 57  FAMI_COMECEREALFRUTOSLEGUMBRE  75360 non-null  object        \n",
            " 58  PUNT_MATEMATICAS               80847 non-null  int64         \n",
            " 59  PUNT_INGLES                    80833 non-null  float64       \n",
            "dtypes: datetime64[ns](1), float64(3), int64(13), object(43)\n",
            "memory usage: 37.0+ MB\n"
          ]
        }
      ]
    },
    {
      "cell_type": "markdown",
      "source": [
        "**Preparación de los datos**"
      ],
      "metadata": {
        "id": "yy52uNFz8h2U"
      }
    },
    {
      "cell_type": "code",
      "source": [
        "seleccionColumnas = [\"ESTU_PRESENTACIONSABADO\",\"FAMI_EDUCACIONMADRE\",\n",
        "                    \"FAMI_TIENESERVICIOTV\",\"COLE_CARACTER\",\"ESTU_GENERO\",\"FAMI_TIENEHORNOMICROOGAS\",\n",
        "                    \"FAMI_PERSONASHOGAR\",\"ESTU_TIPOREMUNERACION\",\"FAMI_TIENECONSOLAVIDEOJUEGOS\",\n",
        "                    \"ESTU_HORASSEMANATRABAJA\",\"FAMI_EDUCACIONPADRE\",\"FAMI_TIENEAUTOMOVIL\",\n",
        "                    \"COLE_JORNADA\",\"COLE_NATURALEZA\",\"FAMI_TRABAJOLABORMADRE\",\"ESTU_NSE_INDIVIDUAL\",\n",
        "                    \"FAMI_COMECEREALFRUTOSLEGUMBRE\",\"FAMI_TIENECOMPUTADOR\",\n",
        "                    \"FAMI_CUARTOSHOGAR\",\"FAMI_TIENEMOTOCICLETA\",\"FAMI_COMELECHEDERIVADOS\",\n",
        "                    \"FAMI_TIENEINTERNET\",\"ESTU_DEDICACIONLECTURADIARIA\",\"COLE_AREA_UBICACION\",\n",
        "                    \"FAMI_SITUACIONECONOMICA\",\"FAMI_ESTRATOVIVIENDA\",\"FAMI_TRABAJOLABORPADRE\",\"ESTU_FECHANACIMIENTO\",\n",
        "                     \"COLE_GENERO\",\"FAMI_COMECARNEPESCADOHUEVO\",\"PUNT_GLOBAL\", \"FAMI_TIENELAVADORA\",\"COLE_CALENDARIO\",\n",
        "                     \"ESTU_DEDICACIONINTERNET\",\"ESTU_NSE_ESTABLECIMIENTO\",\"FAMI_NUMLIBROS\",'COLE_BILINGUE']\n",
        "df_icfes = merged_df[seleccionColumnas]\n",
        "print(df_icfes.info())"
      ],
      "metadata": {
        "colab": {
          "base_uri": "https://localhost:8080/"
        },
        "id": "huco0zgWLFue",
        "outputId": "28e2c239-4dce-46a8-c4aa-0b7205d5a385"
      },
      "execution_count": 4,
      "outputs": [
        {
          "output_type": "stream",
          "name": "stdout",
          "text": [
            "<class 'pandas.core.frame.DataFrame'>\n",
            "RangeIndex: 80847 entries, 0 to 80846\n",
            "Data columns (total 37 columns):\n",
            " #   Column                         Non-Null Count  Dtype         \n",
            "---  ------                         --------------  -----         \n",
            " 0   ESTU_PRESENTACIONSABADO        80699 non-null  object        \n",
            " 1   FAMI_EDUCACIONMADRE            76133 non-null  object        \n",
            " 2   FAMI_TIENESERVICIOTV           75913 non-null  object        \n",
            " 3   COLE_CARACTER                  77102 non-null  object        \n",
            " 4   ESTU_GENERO                    80847 non-null  object        \n",
            " 5   FAMI_TIENEHORNOMICROOGAS       77632 non-null  object        \n",
            " 6   FAMI_PERSONASHOGAR             77721 non-null  object        \n",
            " 7   ESTU_TIPOREMUNERACION          77520 non-null  object        \n",
            " 8   FAMI_TIENECONSOLAVIDEOJUEGOS   77584 non-null  object        \n",
            " 9   ESTU_HORASSEMANATRABAJA        77633 non-null  object        \n",
            " 10  FAMI_EDUCACIONPADRE            76179 non-null  object        \n",
            " 11  FAMI_TIENEAUTOMOVIL            77553 non-null  object        \n",
            " 12  COLE_JORNADA                   80847 non-null  object        \n",
            " 13  COLE_NATURALEZA                80847 non-null  object        \n",
            " 14  FAMI_TRABAJOLABORMADRE         77620 non-null  object        \n",
            " 15  ESTU_NSE_INDIVIDUAL            77591 non-null  float64       \n",
            " 16  FAMI_COMECEREALFRUTOSLEGUMBRE  75360 non-null  object        \n",
            " 17  FAMI_TIENECOMPUTADOR           77675 non-null  object        \n",
            " 18  FAMI_CUARTOSHOGAR              77571 non-null  object        \n",
            " 19  FAMI_TIENEMOTOCICLETA          77584 non-null  object        \n",
            " 20  FAMI_COMELECHEDERIVADOS        75155 non-null  object        \n",
            " 21  FAMI_TIENEINTERNET             76073 non-null  object        \n",
            " 22  ESTU_DEDICACIONLECTURADIARIA   75896 non-null  object        \n",
            " 23  COLE_AREA_UBICACION            80847 non-null  object        \n",
            " 24  FAMI_SITUACIONECONOMICA        77384 non-null  object        \n",
            " 25  FAMI_ESTRATOVIVIENDA           75834 non-null  object        \n",
            " 26  FAMI_TRABAJOLABORPADRE         77592 non-null  object        \n",
            " 27  ESTU_FECHANACIMIENTO           80847 non-null  datetime64[ns]\n",
            " 28  COLE_GENERO                    80847 non-null  object        \n",
            " 29  FAMI_COMECARNEPESCADOHUEVO     75766 non-null  object        \n",
            " 30  PUNT_GLOBAL                    80847 non-null  int64         \n",
            " 31  FAMI_TIENELAVADORA             77673 non-null  object        \n",
            " 32  COLE_CALENDARIO                80847 non-null  object        \n",
            " 33  ESTU_DEDICACIONINTERNET        75769 non-null  object        \n",
            " 34  ESTU_NSE_ESTABLECIMIENTO       80847 non-null  int64         \n",
            " 35  FAMI_NUMLIBROS                 75558 non-null  object        \n",
            " 36  COLE_BILINGUE                  65186 non-null  object        \n",
            "dtypes: datetime64[ns](1), float64(1), int64(2), object(33)\n",
            "memory usage: 22.8+ MB\n",
            "None\n"
          ]
        }
      ]
    },
    {
      "cell_type": "code",
      "source": [
        "data_icfes = df_icfes.dropna()\n",
        "data_icfes.info()"
      ],
      "metadata": {
        "colab": {
          "base_uri": "https://localhost:8080/"
        },
        "id": "cwc8Hl-YRwNo",
        "outputId": "9a52064d-bf8b-4cb4-9b77-026ab884effe"
      },
      "execution_count": 5,
      "outputs": [
        {
          "output_type": "stream",
          "name": "stdout",
          "text": [
            "<class 'pandas.core.frame.DataFrame'>\n",
            "Index: 56666 entries, 4 to 80837\n",
            "Data columns (total 37 columns):\n",
            " #   Column                         Non-Null Count  Dtype         \n",
            "---  ------                         --------------  -----         \n",
            " 0   ESTU_PRESENTACIONSABADO        56666 non-null  object        \n",
            " 1   FAMI_EDUCACIONMADRE            56666 non-null  object        \n",
            " 2   FAMI_TIENESERVICIOTV           56666 non-null  object        \n",
            " 3   COLE_CARACTER                  56666 non-null  object        \n",
            " 4   ESTU_GENERO                    56666 non-null  object        \n",
            " 5   FAMI_TIENEHORNOMICROOGAS       56666 non-null  object        \n",
            " 6   FAMI_PERSONASHOGAR             56666 non-null  object        \n",
            " 7   ESTU_TIPOREMUNERACION          56666 non-null  object        \n",
            " 8   FAMI_TIENECONSOLAVIDEOJUEGOS   56666 non-null  object        \n",
            " 9   ESTU_HORASSEMANATRABAJA        56666 non-null  object        \n",
            " 10  FAMI_EDUCACIONPADRE            56666 non-null  object        \n",
            " 11  FAMI_TIENEAUTOMOVIL            56666 non-null  object        \n",
            " 12  COLE_JORNADA                   56666 non-null  object        \n",
            " 13  COLE_NATURALEZA                56666 non-null  object        \n",
            " 14  FAMI_TRABAJOLABORMADRE         56666 non-null  object        \n",
            " 15  ESTU_NSE_INDIVIDUAL            56666 non-null  float64       \n",
            " 16  FAMI_COMECEREALFRUTOSLEGUMBRE  56666 non-null  object        \n",
            " 17  FAMI_TIENECOMPUTADOR           56666 non-null  object        \n",
            " 18  FAMI_CUARTOSHOGAR              56666 non-null  object        \n",
            " 19  FAMI_TIENEMOTOCICLETA          56666 non-null  object        \n",
            " 20  FAMI_COMELECHEDERIVADOS        56666 non-null  object        \n",
            " 21  FAMI_TIENEINTERNET             56666 non-null  object        \n",
            " 22  ESTU_DEDICACIONLECTURADIARIA   56666 non-null  object        \n",
            " 23  COLE_AREA_UBICACION            56666 non-null  object        \n",
            " 24  FAMI_SITUACIONECONOMICA        56666 non-null  object        \n",
            " 25  FAMI_ESTRATOVIVIENDA           56666 non-null  object        \n",
            " 26  FAMI_TRABAJOLABORPADRE         56666 non-null  object        \n",
            " 27  ESTU_FECHANACIMIENTO           56666 non-null  datetime64[ns]\n",
            " 28  COLE_GENERO                    56666 non-null  object        \n",
            " 29  FAMI_COMECARNEPESCADOHUEVO     56666 non-null  object        \n",
            " 30  PUNT_GLOBAL                    56666 non-null  int64         \n",
            " 31  FAMI_TIENELAVADORA             56666 non-null  object        \n",
            " 32  COLE_CALENDARIO                56666 non-null  object        \n",
            " 33  ESTU_DEDICACIONINTERNET        56666 non-null  object        \n",
            " 34  ESTU_NSE_ESTABLECIMIENTO       56666 non-null  int64         \n",
            " 35  FAMI_NUMLIBROS                 56666 non-null  object        \n",
            " 36  COLE_BILINGUE                  56666 non-null  object        \n",
            "dtypes: datetime64[ns](1), float64(1), int64(2), object(33)\n",
            "memory usage: 16.4+ MB\n"
          ]
        }
      ]
    },
    {
      "cell_type": "code",
      "source": [
        "data_icfes = data_icfes.drop_duplicates()\n",
        "data_icfes"
      ],
      "metadata": {
        "colab": {
          "base_uri": "https://localhost:8080/",
          "height": 600
        },
        "id": "Fa-OIXaRb3uE",
        "outputId": "c4d6c91a-28e5-4043-f374-83f9862a68a9"
      },
      "execution_count": 6,
      "outputs": [
        {
          "output_type": "execute_result",
          "data": {
            "text/plain": [
              "      ESTU_PRESENTACIONSABADO                 FAMI_EDUCACIONMADRE  \\\n",
              "4                          No                           Postgrado   \n",
              "5                          No  Secundaria (Bachillerato) completa   \n",
              "8                          No                           Postgrado   \n",
              "9                          No                           Postgrado   \n",
              "10                         No      Educación profesional completa   \n",
              "...                       ...                                 ...   \n",
              "80833                      No    Educación profesional incompleta   \n",
              "80834                      No      Educación profesional completa   \n",
              "80835                      No      Educación profesional completa   \n",
              "80836                      No                           Postgrado   \n",
              "80837                      No                           Postgrado   \n",
              "\n",
              "      FAMI_TIENESERVICIOTV COLE_CARACTER ESTU_GENERO FAMI_TIENEHORNOMICROOGAS  \\\n",
              "4                       Si     ACADÉMICO           M                       Si   \n",
              "5                       Si     ACADÉMICO           M                       Si   \n",
              "8                       Si     ACADÉMICO           F                       No   \n",
              "9                       Si     ACADÉMICO           M                       Si   \n",
              "10                      No     ACADÉMICO           M                       No   \n",
              "...                    ...           ...         ...                      ...   \n",
              "80833                   Si     ACADÉMICO           F                       Si   \n",
              "80834                   Si     ACADÉMICO           F                       Si   \n",
              "80835                   Si     ACADÉMICO           F                       Si   \n",
              "80836                   Si     ACADÉMICO           F                       Si   \n",
              "80837                   Si     ACADÉMICO           F                       Si   \n",
              "\n",
              "      FAMI_PERSONASHOGAR ESTU_TIPOREMUNERACION FAMI_TIENECONSOLAVIDEOJUEGOS  \\\n",
              "4                  3 a 4       Si; en efectivo                           Si   \n",
              "5                  3 a 4                    No                           No   \n",
              "8                  3 a 4                    No                           No   \n",
              "9                  5 a 6                    No                           Si   \n",
              "10                 3 a 4                    No                           No   \n",
              "...                  ...                   ...                          ...   \n",
              "80833              1 a 2       Si; en efectivo                           No   \n",
              "80834              3 a 4                    No                           No   \n",
              "80835              3 a 4                    No                           Si   \n",
              "80836              3 a 4                    No                           No   \n",
              "80837              3 a 4                    No                           No   \n",
              "\n",
              "      ESTU_HORASSEMANATRABAJA  ... ESTU_FECHANACIMIENTO COLE_GENERO  \\\n",
              "4                           0  ...           2006-01-21       MIXTO   \n",
              "5                           0  ...           2005-10-16       MIXTO   \n",
              "8                           0  ...           2006-08-15       MIXTO   \n",
              "9         Entre 11 y 20 horas  ...           2007-01-18       MIXTO   \n",
              "10          Menos de 10 horas  ...           2006-08-01       MIXTO   \n",
              "...                       ...  ...                  ...         ...   \n",
              "80833       Menos de 10 horas  ...           2005-04-08    FEMENINO   \n",
              "80834     Entre 11 y 20 horas  ...           2004-08-25    FEMENINO   \n",
              "80835                       0  ...           2005-06-22    FEMENINO   \n",
              "80836                       0  ...           2004-11-04    FEMENINO   \n",
              "80837                       0  ...           2005-04-07    FEMENINO   \n",
              "\n",
              "        FAMI_COMECARNEPESCADOHUEVO PUNT_GLOBAL FAMI_TIENELAVADORA  \\\n",
              "4      Todos o casi todos los días         328                 Si   \n",
              "5      Todos o casi todos los días         304                 Si   \n",
              "8           3 a 5 veces por semana         420                 Si   \n",
              "9      Todos o casi todos los días         281                 Si   \n",
              "10          3 a 5 veces por semana         311                 Si   \n",
              "...                            ...         ...                ...   \n",
              "80833       3 a 5 veces por semana         285                 Si   \n",
              "80834  Todos o casi todos los días         312                 Si   \n",
              "80835  Todos o casi todos los días         366                 Si   \n",
              "80836  Todos o casi todos los días         407                 Si   \n",
              "80837  Todos o casi todos los días         347                 Si   \n",
              "\n",
              "       COLE_CALENDARIO ESTU_DEDICACIONINTERNET ESTU_NSE_ESTABLECIMIENTO  \\\n",
              "4                    A          Más de 3 horas                        3   \n",
              "5                    A       Entre 1 y 3 horas                        3   \n",
              "8                    A          Más de 3 horas                        3   \n",
              "9                    A          Más de 3 horas                        3   \n",
              "10                   A   Entre 30 y 60 minutos                        3   \n",
              "...                ...                     ...                      ...   \n",
              "80833                B   Entre 30 y 60 minutos                        4   \n",
              "80834                B   Entre 30 y 60 minutos                        4   \n",
              "80835                B       Entre 1 y 3 horas                        4   \n",
              "80836                B       Entre 1 y 3 horas                        4   \n",
              "80837                B       Entre 1 y 3 horas                        4   \n",
              "\n",
              "          FAMI_NUMLIBROS COLE_BILINGUE  \n",
              "4        26 A 100 LIBROS             N  \n",
              "5         11 A 25 LIBROS             N  \n",
              "8        26 A 100 LIBROS             N  \n",
              "9          0 A 10 LIBROS             N  \n",
              "10         0 A 10 LIBROS             N  \n",
              "...                  ...           ...  \n",
              "80833     11 A 25 LIBROS             N  \n",
              "80834    26 A 100 LIBROS             N  \n",
              "80835  MÁS DE 100 LIBROS             N  \n",
              "80836  MÁS DE 100 LIBROS             N  \n",
              "80837  MÁS DE 100 LIBROS             N  \n",
              "\n",
              "[56666 rows x 37 columns]"
            ],
            "text/html": [
              "\n",
              "  <div id=\"df-9086a754-2524-4d55-b997-0ccbbf517e71\" class=\"colab-df-container\">\n",
              "    <div>\n",
              "<style scoped>\n",
              "    .dataframe tbody tr th:only-of-type {\n",
              "        vertical-align: middle;\n",
              "    }\n",
              "\n",
              "    .dataframe tbody tr th {\n",
              "        vertical-align: top;\n",
              "    }\n",
              "\n",
              "    .dataframe thead th {\n",
              "        text-align: right;\n",
              "    }\n",
              "</style>\n",
              "<table border=\"1\" class=\"dataframe\">\n",
              "  <thead>\n",
              "    <tr style=\"text-align: right;\">\n",
              "      <th></th>\n",
              "      <th>ESTU_PRESENTACIONSABADO</th>\n",
              "      <th>FAMI_EDUCACIONMADRE</th>\n",
              "      <th>FAMI_TIENESERVICIOTV</th>\n",
              "      <th>COLE_CARACTER</th>\n",
              "      <th>ESTU_GENERO</th>\n",
              "      <th>FAMI_TIENEHORNOMICROOGAS</th>\n",
              "      <th>FAMI_PERSONASHOGAR</th>\n",
              "      <th>ESTU_TIPOREMUNERACION</th>\n",
              "      <th>FAMI_TIENECONSOLAVIDEOJUEGOS</th>\n",
              "      <th>ESTU_HORASSEMANATRABAJA</th>\n",
              "      <th>...</th>\n",
              "      <th>ESTU_FECHANACIMIENTO</th>\n",
              "      <th>COLE_GENERO</th>\n",
              "      <th>FAMI_COMECARNEPESCADOHUEVO</th>\n",
              "      <th>PUNT_GLOBAL</th>\n",
              "      <th>FAMI_TIENELAVADORA</th>\n",
              "      <th>COLE_CALENDARIO</th>\n",
              "      <th>ESTU_DEDICACIONINTERNET</th>\n",
              "      <th>ESTU_NSE_ESTABLECIMIENTO</th>\n",
              "      <th>FAMI_NUMLIBROS</th>\n",
              "      <th>COLE_BILINGUE</th>\n",
              "    </tr>\n",
              "  </thead>\n",
              "  <tbody>\n",
              "    <tr>\n",
              "      <th>4</th>\n",
              "      <td>No</td>\n",
              "      <td>Postgrado</td>\n",
              "      <td>Si</td>\n",
              "      <td>ACADÉMICO</td>\n",
              "      <td>M</td>\n",
              "      <td>Si</td>\n",
              "      <td>3 a 4</td>\n",
              "      <td>Si; en efectivo</td>\n",
              "      <td>Si</td>\n",
              "      <td>0</td>\n",
              "      <td>...</td>\n",
              "      <td>2006-01-21</td>\n",
              "      <td>MIXTO</td>\n",
              "      <td>Todos o casi todos los días</td>\n",
              "      <td>328</td>\n",
              "      <td>Si</td>\n",
              "      <td>A</td>\n",
              "      <td>Más de 3 horas</td>\n",
              "      <td>3</td>\n",
              "      <td>26 A 100 LIBROS</td>\n",
              "      <td>N</td>\n",
              "    </tr>\n",
              "    <tr>\n",
              "      <th>5</th>\n",
              "      <td>No</td>\n",
              "      <td>Secundaria (Bachillerato) completa</td>\n",
              "      <td>Si</td>\n",
              "      <td>ACADÉMICO</td>\n",
              "      <td>M</td>\n",
              "      <td>Si</td>\n",
              "      <td>3 a 4</td>\n",
              "      <td>No</td>\n",
              "      <td>No</td>\n",
              "      <td>0</td>\n",
              "      <td>...</td>\n",
              "      <td>2005-10-16</td>\n",
              "      <td>MIXTO</td>\n",
              "      <td>Todos o casi todos los días</td>\n",
              "      <td>304</td>\n",
              "      <td>Si</td>\n",
              "      <td>A</td>\n",
              "      <td>Entre 1 y 3 horas</td>\n",
              "      <td>3</td>\n",
              "      <td>11 A 25 LIBROS</td>\n",
              "      <td>N</td>\n",
              "    </tr>\n",
              "    <tr>\n",
              "      <th>8</th>\n",
              "      <td>No</td>\n",
              "      <td>Postgrado</td>\n",
              "      <td>Si</td>\n",
              "      <td>ACADÉMICO</td>\n",
              "      <td>F</td>\n",
              "      <td>No</td>\n",
              "      <td>3 a 4</td>\n",
              "      <td>No</td>\n",
              "      <td>No</td>\n",
              "      <td>0</td>\n",
              "      <td>...</td>\n",
              "      <td>2006-08-15</td>\n",
              "      <td>MIXTO</td>\n",
              "      <td>3 a 5 veces por semana</td>\n",
              "      <td>420</td>\n",
              "      <td>Si</td>\n",
              "      <td>A</td>\n",
              "      <td>Más de 3 horas</td>\n",
              "      <td>3</td>\n",
              "      <td>26 A 100 LIBROS</td>\n",
              "      <td>N</td>\n",
              "    </tr>\n",
              "    <tr>\n",
              "      <th>9</th>\n",
              "      <td>No</td>\n",
              "      <td>Postgrado</td>\n",
              "      <td>Si</td>\n",
              "      <td>ACADÉMICO</td>\n",
              "      <td>M</td>\n",
              "      <td>Si</td>\n",
              "      <td>5 a 6</td>\n",
              "      <td>No</td>\n",
              "      <td>Si</td>\n",
              "      <td>Entre 11 y 20 horas</td>\n",
              "      <td>...</td>\n",
              "      <td>2007-01-18</td>\n",
              "      <td>MIXTO</td>\n",
              "      <td>Todos o casi todos los días</td>\n",
              "      <td>281</td>\n",
              "      <td>Si</td>\n",
              "      <td>A</td>\n",
              "      <td>Más de 3 horas</td>\n",
              "      <td>3</td>\n",
              "      <td>0 A 10 LIBROS</td>\n",
              "      <td>N</td>\n",
              "    </tr>\n",
              "    <tr>\n",
              "      <th>10</th>\n",
              "      <td>No</td>\n",
              "      <td>Educación profesional completa</td>\n",
              "      <td>No</td>\n",
              "      <td>ACADÉMICO</td>\n",
              "      <td>M</td>\n",
              "      <td>No</td>\n",
              "      <td>3 a 4</td>\n",
              "      <td>No</td>\n",
              "      <td>No</td>\n",
              "      <td>Menos de 10 horas</td>\n",
              "      <td>...</td>\n",
              "      <td>2006-08-01</td>\n",
              "      <td>MIXTO</td>\n",
              "      <td>3 a 5 veces por semana</td>\n",
              "      <td>311</td>\n",
              "      <td>Si</td>\n",
              "      <td>A</td>\n",
              "      <td>Entre 30 y 60 minutos</td>\n",
              "      <td>3</td>\n",
              "      <td>0 A 10 LIBROS</td>\n",
              "      <td>N</td>\n",
              "    </tr>\n",
              "    <tr>\n",
              "      <th>...</th>\n",
              "      <td>...</td>\n",
              "      <td>...</td>\n",
              "      <td>...</td>\n",
              "      <td>...</td>\n",
              "      <td>...</td>\n",
              "      <td>...</td>\n",
              "      <td>...</td>\n",
              "      <td>...</td>\n",
              "      <td>...</td>\n",
              "      <td>...</td>\n",
              "      <td>...</td>\n",
              "      <td>...</td>\n",
              "      <td>...</td>\n",
              "      <td>...</td>\n",
              "      <td>...</td>\n",
              "      <td>...</td>\n",
              "      <td>...</td>\n",
              "      <td>...</td>\n",
              "      <td>...</td>\n",
              "      <td>...</td>\n",
              "      <td>...</td>\n",
              "    </tr>\n",
              "    <tr>\n",
              "      <th>80833</th>\n",
              "      <td>No</td>\n",
              "      <td>Educación profesional incompleta</td>\n",
              "      <td>Si</td>\n",
              "      <td>ACADÉMICO</td>\n",
              "      <td>F</td>\n",
              "      <td>Si</td>\n",
              "      <td>1 a 2</td>\n",
              "      <td>Si; en efectivo</td>\n",
              "      <td>No</td>\n",
              "      <td>Menos de 10 horas</td>\n",
              "      <td>...</td>\n",
              "      <td>2005-04-08</td>\n",
              "      <td>FEMENINO</td>\n",
              "      <td>3 a 5 veces por semana</td>\n",
              "      <td>285</td>\n",
              "      <td>Si</td>\n",
              "      <td>B</td>\n",
              "      <td>Entre 30 y 60 minutos</td>\n",
              "      <td>4</td>\n",
              "      <td>11 A 25 LIBROS</td>\n",
              "      <td>N</td>\n",
              "    </tr>\n",
              "    <tr>\n",
              "      <th>80834</th>\n",
              "      <td>No</td>\n",
              "      <td>Educación profesional completa</td>\n",
              "      <td>Si</td>\n",
              "      <td>ACADÉMICO</td>\n",
              "      <td>F</td>\n",
              "      <td>Si</td>\n",
              "      <td>3 a 4</td>\n",
              "      <td>No</td>\n",
              "      <td>No</td>\n",
              "      <td>Entre 11 y 20 horas</td>\n",
              "      <td>...</td>\n",
              "      <td>2004-08-25</td>\n",
              "      <td>FEMENINO</td>\n",
              "      <td>Todos o casi todos los días</td>\n",
              "      <td>312</td>\n",
              "      <td>Si</td>\n",
              "      <td>B</td>\n",
              "      <td>Entre 30 y 60 minutos</td>\n",
              "      <td>4</td>\n",
              "      <td>26 A 100 LIBROS</td>\n",
              "      <td>N</td>\n",
              "    </tr>\n",
              "    <tr>\n",
              "      <th>80835</th>\n",
              "      <td>No</td>\n",
              "      <td>Educación profesional completa</td>\n",
              "      <td>Si</td>\n",
              "      <td>ACADÉMICO</td>\n",
              "      <td>F</td>\n",
              "      <td>Si</td>\n",
              "      <td>3 a 4</td>\n",
              "      <td>No</td>\n",
              "      <td>Si</td>\n",
              "      <td>0</td>\n",
              "      <td>...</td>\n",
              "      <td>2005-06-22</td>\n",
              "      <td>FEMENINO</td>\n",
              "      <td>Todos o casi todos los días</td>\n",
              "      <td>366</td>\n",
              "      <td>Si</td>\n",
              "      <td>B</td>\n",
              "      <td>Entre 1 y 3 horas</td>\n",
              "      <td>4</td>\n",
              "      <td>MÁS DE 100 LIBROS</td>\n",
              "      <td>N</td>\n",
              "    </tr>\n",
              "    <tr>\n",
              "      <th>80836</th>\n",
              "      <td>No</td>\n",
              "      <td>Postgrado</td>\n",
              "      <td>Si</td>\n",
              "      <td>ACADÉMICO</td>\n",
              "      <td>F</td>\n",
              "      <td>Si</td>\n",
              "      <td>3 a 4</td>\n",
              "      <td>No</td>\n",
              "      <td>No</td>\n",
              "      <td>0</td>\n",
              "      <td>...</td>\n",
              "      <td>2004-11-04</td>\n",
              "      <td>FEMENINO</td>\n",
              "      <td>Todos o casi todos los días</td>\n",
              "      <td>407</td>\n",
              "      <td>Si</td>\n",
              "      <td>B</td>\n",
              "      <td>Entre 1 y 3 horas</td>\n",
              "      <td>4</td>\n",
              "      <td>MÁS DE 100 LIBROS</td>\n",
              "      <td>N</td>\n",
              "    </tr>\n",
              "    <tr>\n",
              "      <th>80837</th>\n",
              "      <td>No</td>\n",
              "      <td>Postgrado</td>\n",
              "      <td>Si</td>\n",
              "      <td>ACADÉMICO</td>\n",
              "      <td>F</td>\n",
              "      <td>Si</td>\n",
              "      <td>3 a 4</td>\n",
              "      <td>No</td>\n",
              "      <td>No</td>\n",
              "      <td>0</td>\n",
              "      <td>...</td>\n",
              "      <td>2005-04-07</td>\n",
              "      <td>FEMENINO</td>\n",
              "      <td>Todos o casi todos los días</td>\n",
              "      <td>347</td>\n",
              "      <td>Si</td>\n",
              "      <td>B</td>\n",
              "      <td>Entre 1 y 3 horas</td>\n",
              "      <td>4</td>\n",
              "      <td>MÁS DE 100 LIBROS</td>\n",
              "      <td>N</td>\n",
              "    </tr>\n",
              "  </tbody>\n",
              "</table>\n",
              "<p>56666 rows × 37 columns</p>\n",
              "</div>\n",
              "    <div class=\"colab-df-buttons\">\n",
              "\n",
              "  <div class=\"colab-df-container\">\n",
              "    <button class=\"colab-df-convert\" onclick=\"convertToInteractive('df-9086a754-2524-4d55-b997-0ccbbf517e71')\"\n",
              "            title=\"Convert this dataframe to an interactive table.\"\n",
              "            style=\"display:none;\">\n",
              "\n",
              "  <svg xmlns=\"http://www.w3.org/2000/svg\" height=\"24px\" viewBox=\"0 -960 960 960\">\n",
              "    <path d=\"M120-120v-720h720v720H120Zm60-500h600v-160H180v160Zm220 220h160v-160H400v160Zm0 220h160v-160H400v160ZM180-400h160v-160H180v160Zm440 0h160v-160H620v160ZM180-180h160v-160H180v160Zm440 0h160v-160H620v160Z\"/>\n",
              "  </svg>\n",
              "    </button>\n",
              "\n",
              "  <style>\n",
              "    .colab-df-container {\n",
              "      display:flex;\n",
              "      gap: 12px;\n",
              "    }\n",
              "\n",
              "    .colab-df-convert {\n",
              "      background-color: #E8F0FE;\n",
              "      border: none;\n",
              "      border-radius: 50%;\n",
              "      cursor: pointer;\n",
              "      display: none;\n",
              "      fill: #1967D2;\n",
              "      height: 32px;\n",
              "      padding: 0 0 0 0;\n",
              "      width: 32px;\n",
              "    }\n",
              "\n",
              "    .colab-df-convert:hover {\n",
              "      background-color: #E2EBFA;\n",
              "      box-shadow: 0px 1px 2px rgba(60, 64, 67, 0.3), 0px 1px 3px 1px rgba(60, 64, 67, 0.15);\n",
              "      fill: #174EA6;\n",
              "    }\n",
              "\n",
              "    .colab-df-buttons div {\n",
              "      margin-bottom: 4px;\n",
              "    }\n",
              "\n",
              "    [theme=dark] .colab-df-convert {\n",
              "      background-color: #3B4455;\n",
              "      fill: #D2E3FC;\n",
              "    }\n",
              "\n",
              "    [theme=dark] .colab-df-convert:hover {\n",
              "      background-color: #434B5C;\n",
              "      box-shadow: 0px 1px 3px 1px rgba(0, 0, 0, 0.15);\n",
              "      filter: drop-shadow(0px 1px 2px rgba(0, 0, 0, 0.3));\n",
              "      fill: #FFFFFF;\n",
              "    }\n",
              "  </style>\n",
              "\n",
              "    <script>\n",
              "      const buttonEl =\n",
              "        document.querySelector('#df-9086a754-2524-4d55-b997-0ccbbf517e71 button.colab-df-convert');\n",
              "      buttonEl.style.display =\n",
              "        google.colab.kernel.accessAllowed ? 'block' : 'none';\n",
              "\n",
              "      async function convertToInteractive(key) {\n",
              "        const element = document.querySelector('#df-9086a754-2524-4d55-b997-0ccbbf517e71');\n",
              "        const dataTable =\n",
              "          await google.colab.kernel.invokeFunction('convertToInteractive',\n",
              "                                                    [key], {});\n",
              "        if (!dataTable) return;\n",
              "\n",
              "        const docLinkHtml = 'Like what you see? Visit the ' +\n",
              "          '<a target=\"_blank\" href=https://colab.research.google.com/notebooks/data_table.ipynb>data table notebook</a>'\n",
              "          + ' to learn more about interactive tables.';\n",
              "        element.innerHTML = '';\n",
              "        dataTable['output_type'] = 'display_data';\n",
              "        await google.colab.output.renderOutput(dataTable, element);\n",
              "        const docLink = document.createElement('div');\n",
              "        docLink.innerHTML = docLinkHtml;\n",
              "        element.appendChild(docLink);\n",
              "      }\n",
              "    </script>\n",
              "  </div>\n",
              "\n",
              "\n",
              "    <div id=\"df-07d1b504-c5a1-4ccb-ab6d-02d54f97f0e1\">\n",
              "      <button class=\"colab-df-quickchart\" onclick=\"quickchart('df-07d1b504-c5a1-4ccb-ab6d-02d54f97f0e1')\"\n",
              "                title=\"Suggest charts\"\n",
              "                style=\"display:none;\">\n",
              "\n",
              "<svg xmlns=\"http://www.w3.org/2000/svg\" height=\"24px\"viewBox=\"0 0 24 24\"\n",
              "     width=\"24px\">\n",
              "    <g>\n",
              "        <path d=\"M19 3H5c-1.1 0-2 .9-2 2v14c0 1.1.9 2 2 2h14c1.1 0 2-.9 2-2V5c0-1.1-.9-2-2-2zM9 17H7v-7h2v7zm4 0h-2V7h2v10zm4 0h-2v-4h2v4z\"/>\n",
              "    </g>\n",
              "</svg>\n",
              "      </button>\n",
              "\n",
              "<style>\n",
              "  .colab-df-quickchart {\n",
              "      --bg-color: #E8F0FE;\n",
              "      --fill-color: #1967D2;\n",
              "      --hover-bg-color: #E2EBFA;\n",
              "      --hover-fill-color: #174EA6;\n",
              "      --disabled-fill-color: #AAA;\n",
              "      --disabled-bg-color: #DDD;\n",
              "  }\n",
              "\n",
              "  [theme=dark] .colab-df-quickchart {\n",
              "      --bg-color: #3B4455;\n",
              "      --fill-color: #D2E3FC;\n",
              "      --hover-bg-color: #434B5C;\n",
              "      --hover-fill-color: #FFFFFF;\n",
              "      --disabled-bg-color: #3B4455;\n",
              "      --disabled-fill-color: #666;\n",
              "  }\n",
              "\n",
              "  .colab-df-quickchart {\n",
              "    background-color: var(--bg-color);\n",
              "    border: none;\n",
              "    border-radius: 50%;\n",
              "    cursor: pointer;\n",
              "    display: none;\n",
              "    fill: var(--fill-color);\n",
              "    height: 32px;\n",
              "    padding: 0;\n",
              "    width: 32px;\n",
              "  }\n",
              "\n",
              "  .colab-df-quickchart:hover {\n",
              "    background-color: var(--hover-bg-color);\n",
              "    box-shadow: 0 1px 2px rgba(60, 64, 67, 0.3), 0 1px 3px 1px rgba(60, 64, 67, 0.15);\n",
              "    fill: var(--button-hover-fill-color);\n",
              "  }\n",
              "\n",
              "  .colab-df-quickchart-complete:disabled,\n",
              "  .colab-df-quickchart-complete:disabled:hover {\n",
              "    background-color: var(--disabled-bg-color);\n",
              "    fill: var(--disabled-fill-color);\n",
              "    box-shadow: none;\n",
              "  }\n",
              "\n",
              "  .colab-df-spinner {\n",
              "    border: 2px solid var(--fill-color);\n",
              "    border-color: transparent;\n",
              "    border-bottom-color: var(--fill-color);\n",
              "    animation:\n",
              "      spin 1s steps(1) infinite;\n",
              "  }\n",
              "\n",
              "  @keyframes spin {\n",
              "    0% {\n",
              "      border-color: transparent;\n",
              "      border-bottom-color: var(--fill-color);\n",
              "      border-left-color: var(--fill-color);\n",
              "    }\n",
              "    20% {\n",
              "      border-color: transparent;\n",
              "      border-left-color: var(--fill-color);\n",
              "      border-top-color: var(--fill-color);\n",
              "    }\n",
              "    30% {\n",
              "      border-color: transparent;\n",
              "      border-left-color: var(--fill-color);\n",
              "      border-top-color: var(--fill-color);\n",
              "      border-right-color: var(--fill-color);\n",
              "    }\n",
              "    40% {\n",
              "      border-color: transparent;\n",
              "      border-right-color: var(--fill-color);\n",
              "      border-top-color: var(--fill-color);\n",
              "    }\n",
              "    60% {\n",
              "      border-color: transparent;\n",
              "      border-right-color: var(--fill-color);\n",
              "    }\n",
              "    80% {\n",
              "      border-color: transparent;\n",
              "      border-right-color: var(--fill-color);\n",
              "      border-bottom-color: var(--fill-color);\n",
              "    }\n",
              "    90% {\n",
              "      border-color: transparent;\n",
              "      border-bottom-color: var(--fill-color);\n",
              "    }\n",
              "  }\n",
              "</style>\n",
              "\n",
              "      <script>\n",
              "        async function quickchart(key) {\n",
              "          const quickchartButtonEl =\n",
              "            document.querySelector('#' + key + ' button');\n",
              "          quickchartButtonEl.disabled = true;  // To prevent multiple clicks.\n",
              "          quickchartButtonEl.classList.add('colab-df-spinner');\n",
              "          try {\n",
              "            const charts = await google.colab.kernel.invokeFunction(\n",
              "                'suggestCharts', [key], {});\n",
              "          } catch (error) {\n",
              "            console.error('Error during call to suggestCharts:', error);\n",
              "          }\n",
              "          quickchartButtonEl.classList.remove('colab-df-spinner');\n",
              "          quickchartButtonEl.classList.add('colab-df-quickchart-complete');\n",
              "        }\n",
              "        (() => {\n",
              "          let quickchartButtonEl =\n",
              "            document.querySelector('#df-07d1b504-c5a1-4ccb-ab6d-02d54f97f0e1 button');\n",
              "          quickchartButtonEl.style.display =\n",
              "            google.colab.kernel.accessAllowed ? 'block' : 'none';\n",
              "        })();\n",
              "      </script>\n",
              "    </div>\n",
              "\n",
              "  <div id=\"id_7db025e9-a951-4e9b-8a90-c8025208f328\">\n",
              "    <style>\n",
              "      .colab-df-generate {\n",
              "        background-color: #E8F0FE;\n",
              "        border: none;\n",
              "        border-radius: 50%;\n",
              "        cursor: pointer;\n",
              "        display: none;\n",
              "        fill: #1967D2;\n",
              "        height: 32px;\n",
              "        padding: 0 0 0 0;\n",
              "        width: 32px;\n",
              "      }\n",
              "\n",
              "      .colab-df-generate:hover {\n",
              "        background-color: #E2EBFA;\n",
              "        box-shadow: 0px 1px 2px rgba(60, 64, 67, 0.3), 0px 1px 3px 1px rgba(60, 64, 67, 0.15);\n",
              "        fill: #174EA6;\n",
              "      }\n",
              "\n",
              "      [theme=dark] .colab-df-generate {\n",
              "        background-color: #3B4455;\n",
              "        fill: #D2E3FC;\n",
              "      }\n",
              "\n",
              "      [theme=dark] .colab-df-generate:hover {\n",
              "        background-color: #434B5C;\n",
              "        box-shadow: 0px 1px 3px 1px rgba(0, 0, 0, 0.15);\n",
              "        filter: drop-shadow(0px 1px 2px rgba(0, 0, 0, 0.3));\n",
              "        fill: #FFFFFF;\n",
              "      }\n",
              "    </style>\n",
              "    <button class=\"colab-df-generate\" onclick=\"generateWithVariable('data_icfes')\"\n",
              "            title=\"Generate code using this dataframe.\"\n",
              "            style=\"display:none;\">\n",
              "\n",
              "  <svg xmlns=\"http://www.w3.org/2000/svg\" height=\"24px\"viewBox=\"0 0 24 24\"\n",
              "       width=\"24px\">\n",
              "    <path d=\"M7,19H8.4L18.45,9,17,7.55,7,17.6ZM5,21V16.75L18.45,3.32a2,2,0,0,1,2.83,0l1.4,1.43a1.91,1.91,0,0,1,.58,1.4,1.91,1.91,0,0,1-.58,1.4L9.25,21ZM18.45,9,17,7.55Zm-12,3A5.31,5.31,0,0,0,4.9,8.1,5.31,5.31,0,0,0,1,6.5,5.31,5.31,0,0,0,4.9,4.9,5.31,5.31,0,0,0,6.5,1,5.31,5.31,0,0,0,8.1,4.9,5.31,5.31,0,0,0,12,6.5,5.46,5.46,0,0,0,6.5,12Z\"/>\n",
              "  </svg>\n",
              "    </button>\n",
              "    <script>\n",
              "      (() => {\n",
              "      const buttonEl =\n",
              "        document.querySelector('#id_7db025e9-a951-4e9b-8a90-c8025208f328 button.colab-df-generate');\n",
              "      buttonEl.style.display =\n",
              "        google.colab.kernel.accessAllowed ? 'block' : 'none';\n",
              "\n",
              "      buttonEl.onclick = () => {\n",
              "        google.colab.notebook.generateWithVariable('data_icfes');\n",
              "      }\n",
              "      })();\n",
              "    </script>\n",
              "  </div>\n",
              "\n",
              "    </div>\n",
              "  </div>\n"
            ],
            "application/vnd.google.colaboratory.intrinsic+json": {
              "type": "dataframe",
              "variable_name": "data_icfes"
            }
          },
          "metadata": {},
          "execution_count": 6
        }
      ]
    },
    {
      "cell_type": "markdown",
      "source": [
        "**Transformación de los datos**\n"
      ],
      "metadata": {
        "id": "PFWFw8j0xaoG"
      }
    },
    {
      "cell_type": "code",
      "source": [
        "frecuencia = {'Nunca o rara vez comemos eso':0, '1 o 2 veces por semana': 1, '3 a 5 veces por semana': 2, 'Todos o casi todos los días': 3}\n",
        "data_icfes['FAMI_COMELECHEDERIVADOS'] = data_icfes['FAMI_COMELECHEDERIVADOS'].map(frecuencia)"
      ],
      "metadata": {
        "id": "zIRaYMromVqP"
      },
      "execution_count": 7,
      "outputs": []
    },
    {
      "cell_type": "code",
      "source": [
        "data_icfes['FAMI_COMECARNEPESCADOHUEVO'] = data_icfes['FAMI_COMECARNEPESCADOHUEVO'].map(frecuencia)"
      ],
      "metadata": {
        "id": "FIki_I6nnH-Y"
      },
      "execution_count": 8,
      "outputs": []
    },
    {
      "cell_type": "code",
      "source": [
        "data_icfes['FAMI_COMECEREALFRUTOSLEGUMBRE'] = data_icfes['FAMI_COMECEREALFRUTOSLEGUMBRE'].map(frecuencia)"
      ],
      "metadata": {
        "id": "B1BTFKf6yRpV"
      },
      "execution_count": 9,
      "outputs": []
    },
    {
      "cell_type": "code",
      "source": [
        "educacion = {'No sabe':0,'No Aplica':1,'Ninguno':2, 'Primaria incompleta':3, 'Primaria completa':4,'Secundaria (Bachillerato) incompleta':5,\n",
        "                      'Secundaria (Bachillerato) completa':6,'Técnica o tecnológica incompleta':7,'Técnica o tecnológica completa':8,\n",
        "                     'Educación profesional incompleta':9,'Educación profesional completa':10,'Postgrado':11}\n",
        "data_icfes['FAMI_EDUCACIONMADRE'] = data_icfes['FAMI_EDUCACIONMADRE'].map(educacion)\n",
        "data_icfes['FAMI_EDUCACIONPADRE'] = data_icfes['FAMI_EDUCACIONPADRE'].map(educacion)"
      ],
      "metadata": {
        "id": "PYgeBzK91xyg"
      },
      "execution_count": 10,
      "outputs": []
    },
    {
      "cell_type": "code",
      "source": [
        "labor = {'Trabaja como profesional (por ejemplo médico; abogado; ingeniero)': 0,\n",
        "         'Es operario de máquinas o conduce vehículos (taxita; chofer)': 1,\n",
        "         'Trabaja por cuenta propia (por ejemplo plomero; electricista)': 2,\n",
        "         'No sabe': 3,\n",
        "         'No aplica': 4,\n",
        "         'Es dueño de un negocio pequeño (tiene pocos empleados o no tiene; por ejemplo tienda; papelería; etc': 5,\n",
        "         'Trabaja como personal de limpieza; mantenimiento; seguridad o construcción': 6,\n",
        "         'Es vendedor o trabaja en atención al público': 7,\n",
        "         'Tiene un trabajo de tipo auxiliar administrativo (por ejemplo; secretario o asistente)': 8,\n",
        "         'Es dueño de un negocio grande; tiene un cargo de nivel directivo o gerencial': 9,\n",
        "         'Trabaja en el hogar; no trabaja o estudia': 10,\n",
        "         'Pensionado': 11,\n",
        "         'Es agricultor; pesquero o jornalero': 12}\n",
        "data_icfes['FAMI_TRABAJOLABORPADRE'] = data_icfes['FAMI_TRABAJOLABORPADRE'].map(labor)\n",
        "data_icfes['FAMI_TRABAJOLABORMADRE'] = data_icfes['FAMI_TRABAJOLABORMADRE'].map(labor)"
      ],
      "metadata": {
        "id": "lPB50ixZ7P8Q"
      },
      "execution_count": 11,
      "outputs": []
    },
    {
      "cell_type": "code",
      "source": [
        "si_no = {'Si': 1, 'No': 0}\n",
        "data_icfes['ESTU_PRESENTACIONSABADO'] = data_icfes['ESTU_PRESENTACIONSABADO'].map(si_no)\n",
        "data_icfes['FAMI_TIENESERVICIOTV'] = data_icfes['FAMI_TIENESERVICIOTV'].map(si_no)\n",
        "data_icfes['FAMI_TIENEHORNOMICROOGAS'] = data_icfes['FAMI_TIENEHORNOMICROOGAS'].map(si_no)\n",
        "data_icfes['FAMI_TIENECONSOLAVIDEOJUEGOS'] = data_icfes['FAMI_TIENECONSOLAVIDEOJUEGOS'].map(si_no)\n",
        "data_icfes['FAMI_TIENEAUTOMOVIL'] = data_icfes['FAMI_TIENEAUTOMOVIL'].map(si_no)\n",
        "data_icfes['FAMI_TIENECOMPUTADOR'] = data_icfes['FAMI_TIENECOMPUTADOR'].map(si_no)\n",
        "data_icfes['FAMI_TIENEMOTOCICLETA'] = data_icfes['FAMI_TIENEMOTOCICLETA'].map(si_no)\n",
        "data_icfes['FAMI_TIENEINTERNET'] = data_icfes['FAMI_TIENEINTERNET'].map(si_no)\n",
        "data_icfes['FAMI_TIENELAVADORA'] = data_icfes['FAMI_TIENELAVADORA'].map(si_no)"
      ],
      "metadata": {
        "id": "B8DJoQU17efI"
      },
      "execution_count": 12,
      "outputs": []
    },
    {
      "cell_type": "code",
      "source": [
        "ese_ene = {'S': 1, 'N': 0}\n",
        "data_icfes['COLE_BILINGUE'] = data_icfes['COLE_BILINGUE'].map(ese_ene)"
      ],
      "metadata": {
        "id": "2yl5AvlxL2-V"
      },
      "execution_count": 13,
      "outputs": []
    },
    {
      "cell_type": "code",
      "source": [
        "genero = {'M': 1, 'F': 0}\n",
        "data_icfes['ESTU_GENERO'] = data_icfes['ESTU_GENERO'].map(genero)"
      ],
      "metadata": {
        "id": "xaUh_RIVOOSc"
      },
      "execution_count": 14,
      "outputs": []
    },
    {
      "cell_type": "code",
      "source": [
        "naturaleza = {'OFICIAL':0, 'NO OFICIAL': 1}\n",
        "data_icfes['COLE_NATURALEZA'] = data_icfes['COLE_NATURALEZA'].map(naturaleza)"
      ],
      "metadata": {
        "id": "RfeUn-ojPFAl"
      },
      "execution_count": 15,
      "outputs": []
    },
    {
      "cell_type": "code",
      "source": [
        "area = {'URBANO': 0, 'RURAL': 1}\n",
        "data_icfes['COLE_AREA_UBICACION'] = data_icfes['COLE_AREA_UBICACION'].map(area)"
      ],
      "metadata": {
        "id": "j5O3Z7MvP-BQ"
      },
      "execution_count": 16,
      "outputs": []
    },
    {
      "cell_type": "code",
      "source": [
        "caracter = {'NO APLICA':0, 'TÉCNICO': 1, 'ACADÉMICO': 2, 'TÉCNICO/ACADÉMICO': 3}\n",
        "data_icfes['COLE_CARACTER'] = data_icfes['COLE_CARACTER'].map(caracter)"
      ],
      "metadata": {
        "id": "R8TFppEpQ5rk"
      },
      "execution_count": 17,
      "outputs": []
    },
    {
      "cell_type": "code",
      "source": [
        "personas_hogar = {'1 a 2':1, '3 a 4': 2, '5 a 6': 3, '7 a 8': 4, '9 o más': 5}\n",
        "data_icfes['FAMI_PERSONASHOGAR'] = data_icfes['FAMI_PERSONASHOGAR'].map(personas_hogar)"
      ],
      "metadata": {
        "id": "2-Gh-ihuSq9i"
      },
      "execution_count": 18,
      "outputs": []
    },
    {
      "cell_type": "code",
      "source": [
        "remuneracion = {'No':0, 'Si; en especie': 1, 'Si; en efectivo': 2, 'Si; en efectivo y especie': 3}\n",
        "data_icfes['ESTU_TIPOREMUNERACION'] = data_icfes['ESTU_TIPOREMUNERACION'].map(remuneracion)"
      ],
      "metadata": {
        "id": "kIZTf8xnTi-w"
      },
      "execution_count": 19,
      "outputs": []
    },
    {
      "cell_type": "code",
      "source": [
        "horas_semana = {'0':0, 'Menos de 10 horas': 1, 'Entre 11 y 20 horas': 2, 'Entre 21 y 30 horas': 3, 'Más de 30 horas': 4}\n",
        "data_icfes['ESTU_HORASSEMANATRABAJA'] = data_icfes['ESTU_HORASSEMANATRABAJA'].map(horas_semana)"
      ],
      "metadata": {
        "id": "BFshRfQ7W8yo"
      },
      "execution_count": 20,
      "outputs": []
    },
    {
      "cell_type": "code",
      "source": [
        "jornada = {'SABATINA':0, 'NOCHE': 1, 'TARDE': 2, 'UNICA': 3, 'MAÑANA': 4, 'COMPLETA': 5}\n",
        "data_icfes['COLE_JORNADA'] = data_icfes['COLE_JORNADA'].map(jornada)"
      ],
      "metadata": {
        "id": "c856lBDfXjQx"
      },
      "execution_count": 21,
      "outputs": []
    },
    {
      "cell_type": "code",
      "source": [
        "cuartos = {'Uno': 1, 'Dos': 2, 'Tres': 3, 'Cuatro': 4, 'Cinco': 5, 'Seis o mas': 6}\n",
        "data_icfes['FAMI_CUARTOSHOGAR'] = data_icfes['FAMI_CUARTOSHOGAR'].map(cuartos)"
      ],
      "metadata": {
        "id": "8RLq1fBQYe0e"
      },
      "execution_count": 22,
      "outputs": []
    },
    {
      "cell_type": "code",
      "source": [
        "lectura = {'30 minutos o menos': 0,\n",
        "           'Entre 30 y 60 minutos': 1,\n",
        "           'Entre 1 y 2 horas': 2,\n",
        "           'Más de 2 horas': 3,\n",
        "           'No leo por entretenimiento': 4}\n",
        "data_icfes['ESTU_DEDICACIONLECTURADIARIA'] = data_icfes['ESTU_DEDICACIONLECTURADIARIA'].map(lectura)"
      ],
      "metadata": {
        "id": "BgohHTKXZ3U_"
      },
      "execution_count": 23,
      "outputs": []
    },
    {
      "cell_type": "code",
      "source": [
        "economia = {'Peor': 0, 'Igual': 1, 'Mejor': 2}\n",
        "data_icfes['FAMI_SITUACIONECONOMICA'] = data_icfes['FAMI_SITUACIONECONOMICA'].map(economia)"
      ],
      "metadata": {
        "id": "YYLeJcVoabsr"
      },
      "execution_count": 24,
      "outputs": []
    },
    {
      "cell_type": "code",
      "source": [
        "estrato = {'Sin Estrato': 0, 'Estrato 1': 1, 'Estrato 2': 2, 'Estrato 3': 3, 'Estrato 4': 4, 'Estrato 5': 5, 'Estrato 6': 6}\n",
        "data_icfes['FAMI_ESTRATOVIVIENDA'] = data_icfes['FAMI_ESTRATOVIVIENDA'].map(estrato)"
      ],
      "metadata": {
        "id": "RZFuH1FDbFMs"
      },
      "execution_count": 25,
      "outputs": []
    },
    {
      "cell_type": "code",
      "source": [
        "genero_col = {'MIXTO': 0, 'FEMENINO': 1, 'MASCULINO': 2}\n",
        "data_icfes['COLE_GENERO'] = data_icfes['COLE_GENERO'].map(genero_col)"
      ],
      "metadata": {
        "id": "jQtPw0NIb8Y3"
      },
      "execution_count": 26,
      "outputs": []
    },
    {
      "cell_type": "code",
      "source": [
        "calendario_col = {'OTRO': 0, 'A': 1, 'B': 2}\n",
        "data_icfes['COLE_CALENDARIO'] = data_icfes['COLE_CALENDARIO'].map(calendario_col)"
      ],
      "metadata": {
        "id": "hROxxiYPcsY0"
      },
      "execution_count": 27,
      "outputs": []
    },
    {
      "cell_type": "code",
      "source": [
        "internet = {'No Navega Internet': 0, '30 minutos o menos': 1, 'Entre 30 y 60 minutos': 2, 'Entre 1 y 3 horas': 3, 'Más de 3 horas': 4}\n",
        "data_icfes['ESTU_DEDICACIONINTERNET'] = data_icfes['ESTU_DEDICACIONINTERNET'].map(internet)"
      ],
      "metadata": {
        "id": "sPGLYIS4dUhL"
      },
      "execution_count": 28,
      "outputs": []
    },
    {
      "cell_type": "code",
      "source": [
        "num_libros = {'0 A 10 LIBROS': 0, '11 A 25 LIBROS': 1, '26 A 100 LIBROS': 2, 'MÁS DE 100 LIBROS': 3}\n",
        "data_icfes['FAMI_NUMLIBROS'] = data_icfes['FAMI_NUMLIBROS'].map(num_libros)"
      ],
      "metadata": {
        "id": "M8aeo7weeOA8"
      },
      "execution_count": 29,
      "outputs": []
    },
    {
      "cell_type": "code",
      "source": [
        "#En este fragmento, se determina la edad de cada estudiante\n",
        "data_icfes['Fecha 2023'] = \"2023-12-31\" #Se crea esta columna con fecha 31 de diciembre de 2023\n",
        "data_icfes['Fecha 2023'] = pd.to_datetime(data_icfes['Fecha 2023']) #Se transforma esta columna a un formato fecha\n",
        "data_icfes['EDAD'] = (data_icfes['Fecha 2023'] - data_icfes['ESTU_FECHANACIMIENTO']) #Se crea otra columna llamada EDAD, que implica restar las columnas Fecha 2023 y Fecha de nacimiento para calcular la edad\n",
        "data_icfes['EDAD'] = data_icfes['EDAD'].astype('timedelta64[s]') #El resultado tiene unidades de milisegundos, por lo que es necesario convertirlo a segundos\n",
        "data_icfes['EDAD'] = data_icfes['EDAD'].astype('int64') #La columna EDAD se transforma a un formato numérico entero 64 bits\n",
        "data_icfes['EDAD'] = data_icfes['EDAD']/31536000 #Se realiza la conversión de segundos a años\n",
        "data_icfes['EDAD'] = data_icfes['EDAD'].astype('int') #Se transforma la columna EDAD a un formato numérico entero 32 bits\n",
        "#Una vez lista la columna EDAD, se eliminan las columnas Fecha 2023 y Fecha de nacimiento\n",
        "data_icfes = data_icfes.drop('Fecha 2023', axis=1)\n",
        "data_icfes = data_icfes.drop('ESTU_FECHANACIMIENTO', axis=1)"
      ],
      "metadata": {
        "id": "JjfnZXXGeekF"
      },
      "execution_count": 30,
      "outputs": []
    },
    {
      "cell_type": "code",
      "source": [
        "#Esta columna tiene formato de caracter. Hay que transformarla a formato numérico entero\n",
        "data_icfes['ESTU_NSE_INDIVIDUAL'] = data_icfes['ESTU_NSE_INDIVIDUAL'].astype('int')"
      ],
      "metadata": {
        "id": "lsUMqwwBhIzl"
      },
      "execution_count": 31,
      "outputs": []
    },
    {
      "cell_type": "code",
      "source": [
        "#Se clasifican los puntajes en intervalos:\n",
        "#0: Nivel bajo. Puntajes entre 0 y 100\n",
        "#1: Nivel medio bajo. Puntajes entre 100 y 200\n",
        "#2: Nivel medio. Puntajes entre 200 y 300\n",
        "#3: Nivel medio alto. Puntajes entre 300 y 400\n",
        "#4: Nivel alto. Puntajes entre 400 y 500\n",
        "data_icfes['PUNT_GLOBAL'] = pd.cut(data_icfes['PUNT_GLOBAL'], bins=[0, 100, 200, 300, 400, 500], labels=[0,1,2,3,4])\n",
        "data_icfes['PUNT_GLOBAL'] = data_icfes['PUNT_GLOBAL'].astype('int')"
      ],
      "metadata": {
        "id": "xWaOvPJShU7B"
      },
      "execution_count": 32,
      "outputs": []
    },
    {
      "cell_type": "code",
      "source": [
        "data_icfes.info()"
      ],
      "metadata": {
        "colab": {
          "base_uri": "https://localhost:8080/"
        },
        "id": "f2P-JP8Oh8rw",
        "outputId": "7dabc3b9-4077-4b56-9735-2ee3edf52ccc"
      },
      "execution_count": 33,
      "outputs": [
        {
          "output_type": "stream",
          "name": "stdout",
          "text": [
            "<class 'pandas.core.frame.DataFrame'>\n",
            "Index: 56666 entries, 4 to 80837\n",
            "Data columns (total 37 columns):\n",
            " #   Column                         Non-Null Count  Dtype\n",
            "---  ------                         --------------  -----\n",
            " 0   ESTU_PRESENTACIONSABADO        56666 non-null  int64\n",
            " 1   FAMI_EDUCACIONMADRE            56666 non-null  int64\n",
            " 2   FAMI_TIENESERVICIOTV           56666 non-null  int64\n",
            " 3   COLE_CARACTER                  56666 non-null  int64\n",
            " 4   ESTU_GENERO                    56666 non-null  int64\n",
            " 5   FAMI_TIENEHORNOMICROOGAS       56666 non-null  int64\n",
            " 6   FAMI_PERSONASHOGAR             56666 non-null  int64\n",
            " 7   ESTU_TIPOREMUNERACION          56666 non-null  int64\n",
            " 8   FAMI_TIENECONSOLAVIDEOJUEGOS   56666 non-null  int64\n",
            " 9   ESTU_HORASSEMANATRABAJA        56666 non-null  int64\n",
            " 10  FAMI_EDUCACIONPADRE            56666 non-null  int64\n",
            " 11  FAMI_TIENEAUTOMOVIL            56666 non-null  int64\n",
            " 12  COLE_JORNADA                   56666 non-null  int64\n",
            " 13  COLE_NATURALEZA                56666 non-null  int64\n",
            " 14  FAMI_TRABAJOLABORMADRE         56666 non-null  int64\n",
            " 15  ESTU_NSE_INDIVIDUAL            56666 non-null  int64\n",
            " 16  FAMI_COMECEREALFRUTOSLEGUMBRE  56666 non-null  int64\n",
            " 17  FAMI_TIENECOMPUTADOR           56666 non-null  int64\n",
            " 18  FAMI_CUARTOSHOGAR              56666 non-null  int64\n",
            " 19  FAMI_TIENEMOTOCICLETA          56666 non-null  int64\n",
            " 20  FAMI_COMELECHEDERIVADOS        56666 non-null  int64\n",
            " 21  FAMI_TIENEINTERNET             56666 non-null  int64\n",
            " 22  ESTU_DEDICACIONLECTURADIARIA   56666 non-null  int64\n",
            " 23  COLE_AREA_UBICACION            56666 non-null  int64\n",
            " 24  FAMI_SITUACIONECONOMICA        56666 non-null  int64\n",
            " 25  FAMI_ESTRATOVIVIENDA           56666 non-null  int64\n",
            " 26  FAMI_TRABAJOLABORPADRE         56666 non-null  int64\n",
            " 27  COLE_GENERO                    56666 non-null  int64\n",
            " 28  FAMI_COMECARNEPESCADOHUEVO     56666 non-null  int64\n",
            " 29  PUNT_GLOBAL                    56666 non-null  int64\n",
            " 30  FAMI_TIENELAVADORA             56666 non-null  int64\n",
            " 31  COLE_CALENDARIO                56666 non-null  int64\n",
            " 32  ESTU_DEDICACIONINTERNET        56666 non-null  int64\n",
            " 33  ESTU_NSE_ESTABLECIMIENTO       56666 non-null  int64\n",
            " 34  FAMI_NUMLIBROS                 56666 non-null  int64\n",
            " 35  COLE_BILINGUE                  56666 non-null  int64\n",
            " 36  EDAD                           56666 non-null  int64\n",
            "dtypes: int64(37)\n",
            "memory usage: 16.4 MB\n"
          ]
        }
      ]
    },
    {
      "cell_type": "markdown",
      "source": [
        "**Implementación del KNN**\n",
        "\n",
        "Para este modelo es necesario escalar los datos antes de realizar el entrenamiento y predicciones."
      ],
      "metadata": {
        "id": "7sQRlOFH8WDu"
      }
    },
    {
      "cell_type": "code",
      "source": [
        "#Importar el algoritmo de KNN (clasificador) y otros métodos de la biblioteca Scikit Learn\n",
        "from sklearn.neighbors import KNeighborsClassifier\n",
        "from sklearn.model_selection import train_test_split\n",
        "from sklearn.metrics import f1_score\n",
        "#Importar método para escalar\n",
        "from sklearn.preprocessing import StandardScaler"
      ],
      "metadata": {
        "id": "2yHTNb2fp9x9"
      },
      "execution_count": 34,
      "outputs": []
    },
    {
      "cell_type": "code",
      "source": [
        "#Función para dividir el conjunto de datos en 3 subconjuntos: Train (entrenamiento), Validation (validación) y Prueba (Test)\n",
        "def train_val_test_split(df, rstate=42, shuffle=True, stratify=None):\n",
        "    strat = df[stratify] if stratify else None\n",
        "    train_set, test_set = train_test_split(\n",
        "        df, test_size=0.4, random_state=rstate, shuffle=shuffle, stratify=strat)\n",
        "    strat = test_set[stratify] if stratify else None\n",
        "    val_set, test_set = train_test_split(\n",
        "        test_set, test_size=0.5, random_state=rstate, shuffle=shuffle, stratify=strat)\n",
        "    return (train_set, val_set, test_set)"
      ],
      "metadata": {
        "id": "QuAzMyW6pxpq"
      },
      "execution_count": 35,
      "outputs": []
    },
    {
      "cell_type": "code",
      "source": [
        "def remove_labels(df, label_name):\n",
        "    X = df.drop(label_name, axis=1)\n",
        "    y = df[label_name].copy()\n",
        "    return (X, y)"
      ],
      "metadata": {
        "id": "nnuXP-lMpywi"
      },
      "execution_count": 36,
      "outputs": []
    },
    {
      "cell_type": "code",
      "source": [
        "train_set, val_set, test_set = train_val_test_split(data_icfes)"
      ],
      "metadata": {
        "id": "cvO73zf8qRgM"
      },
      "execution_count": 37,
      "outputs": []
    },
    {
      "cell_type": "code",
      "source": [
        "X_train, y_train = remove_labels(train_set, 'PUNT_GLOBAL')\n",
        "X_val, y_val = remove_labels(val_set, 'PUNT_GLOBAL')\n",
        "X_test, y_test = remove_labels(test_set, 'PUNT_GLOBAL')"
      ],
      "metadata": {
        "id": "1cvAVDh5qd7o"
      },
      "execution_count": 38,
      "outputs": []
    },
    {
      "cell_type": "code",
      "source": [
        "#Escalado de cada subconjunto\n",
        "scaler = StandardScaler()\n",
        "X_train_scaled = scaler.fit_transform(X_train).copy()\n",
        "X_val_scaled = scaler.transform(X_val).copy()\n",
        "X_test_scaled = scaler.transform(X_test).copy()"
      ],
      "metadata": {
        "id": "U3Q4AukCjB8b"
      },
      "execution_count": 39,
      "outputs": []
    },
    {
      "cell_type": "markdown",
      "source": [
        "A continuación se prepara un gráfico para ver la influencia del número de neighbors en los puntajes de F1-score de los conjuntos de entrenamiento y validación."
      ],
      "metadata": {
        "id": "Sg7oENtGxYnq"
      }
    },
    {
      "cell_type": "code",
      "source": [
        "f1score_train = []\n",
        "f1score_val =[]\n",
        "\n",
        "neighbors = range (1,51)\n",
        "\n",
        "for n in neighbors:\n",
        "  knn = KNeighborsClassifier(n_neighbors=n)\n",
        "  knn.fit(X_train_scaled, y_train)\n",
        "  y_train_pred = knn.predict(X_train_scaled)\n",
        "  f1score_train.append(f1_score(y_train_pred, y_train, average='weighted'))\n",
        "  y_val_pred = knn.predict(X_val_scaled)\n",
        "  f1score_val.append(f1_score(y_val_pred, y_val, average='weighted'))"
      ],
      "metadata": {
        "id": "ZWojoFcbkyOO"
      },
      "execution_count": 40,
      "outputs": []
    },
    {
      "cell_type": "code",
      "source": [
        "plt.plot(neighbors,f1score_train,label='F1 score train')\n",
        "plt.plot(neighbors,f1score_val,label='F1 score val')\n",
        "plt.ylabel('F1-score')\n",
        "plt.xlabel('Número de neighbors (k)')\n",
        "plt.legend()"
      ],
      "metadata": {
        "colab": {
          "base_uri": "https://localhost:8080/",
          "height": 467
        },
        "id": "5mKgvVmOpAhr",
        "outputId": "bbc0ba3d-8737-480e-da68-4ab46449480e"
      },
      "execution_count": 41,
      "outputs": [
        {
          "output_type": "execute_result",
          "data": {
            "text/plain": [
              "<matplotlib.legend.Legend at 0x7f98fad99450>"
            ]
          },
          "metadata": {},
          "execution_count": 41
        },
        {
          "output_type": "display_data",
          "data": {
            "text/plain": [
              "<Figure size 640x480 with 1 Axes>"
            ],
            "image/png": "[encoded data removed]"
          },
          "metadata": {}
        }
      ]
    },
    {
      "cell_type": "markdown",
      "source": [
        "De acuerdo con el gráfico, a medida que aumenta el número de neighbors, los puntajes de F1-score de los conjuntos de entrenamiento y validación convergen (se reduce el overfitting). Por lo tanto, se elige el valor de 51 como el número adecuado de neighbors."
      ],
      "metadata": {
        "id": "i4-IPiO8xs66"
      }
    },
    {
      "cell_type": "code",
      "source": [
        "knn_final = KNeighborsClassifier(n_neighbors=51)\n",
        "knn_final.fit(X_train_scaled, y_train)"
      ],
      "metadata": {
        "colab": {
          "base_uri": "https://localhost:8080/",
          "height": 80
        },
        "id": "_M5u83mQvmHN",
        "outputId": "1bc0d1ed-308f-459a-984f-598d48d2225d"
      },
      "execution_count": 42,
      "outputs": [
        {
          "output_type": "execute_result",
          "data": {
            "text/plain": [
              "KNeighborsClassifier(n_neighbors=51)"
            ],
            "text/html": [
              "<style>#sk-container-id-1 {\n",
              "  /* Definition of color scheme common for light and dark mode */\n",
              "  --sklearn-color-text: #000;\n",
              "  --sklearn-color-text-muted: #666;\n",
              "  --sklearn-color-line: gray;\n",
              "  /* Definition of color scheme for unfitted estimators */\n",
              "  --sklearn-color-unfitted-level-0: #fff5e6;\n",
              "  --sklearn-color-unfitted-level-1: #f6e4d2;\n",
              "  --sklearn-color-unfitted-level-2: #ffe0b3;\n",
              "  --sklearn-color-unfitted-level-3: chocolate;\n",
              "  /* Definition of color scheme for fitted estimators */\n",
              "  --sklearn-color-fitted-level-0: #f0f8ff;\n",
              "  --sklearn-color-fitted-level-1: #d4ebff;\n",
              "  --sklearn-color-fitted-level-2: #b3dbfd;\n",
              "  --sklearn-color-fitted-level-3: cornflowerblue;\n",
              "\n",
              "  /* Specific color for light theme */\n",
              "  --sklearn-color-text-on-default-background: var(--sg-text-color, var(--theme-code-foreground, var(--jp-content-font-color1, black)));\n",
              "  --sklearn-color-background: var(--sg-background-color, var(--theme-background, var(--jp-layout-color0, white)));\n",
              "  --sklearn-color-border-box: var(--sg-text-color, var(--theme-code-foreground, var(--jp-content-font-color1, black)));\n",
              "  --sklearn-color-icon: #696969;\n",
              "\n",
              "  @media (prefers-color-scheme: dark) {\n",
              "    /* Redefinition of color scheme for dark theme */\n",
              "    --sklearn-color-text-on-default-background: var(--sg-text-color, var(--theme-code-foreground, var(--jp-content-font-color1, white)));\n",
              "    --sklearn-color-background: var(--sg-background-color, var(--theme-background, var(--jp-layout-color0, #111)));\n",
              "    --sklearn-color-border-box: var(--sg-text-color, var(--theme-code-foreground, var(--jp-content-font-color1, white)));\n",
              "    --sklearn-color-icon: #878787;\n",
              "  }\n",
              "}\n",
              "\n",
              "#sk-container-id-1 {\n",
              "  color: var(--sklearn-color-text);\n",
              "}\n",
              "\n",
              "#sk-container-id-1 pre {\n",
              "  padding: 0;\n",
              "}\n",
              "\n",
              "#sk-container-id-1 input.sk-hidden--visually {\n",
              "  border: 0;\n",
              "  clip: rect(1px 1px 1px 1px);\n",
              "  clip: rect(1px, 1px, 1px, 1px);\n",
              "  height: 1px;\n",
              "  margin: -1px;\n",
              "  overflow: hidden;\n",
              "  padding: 0;\n",
              "  position: absolute;\n",
              "  width: 1px;\n",
              "}\n",
              "\n",
              "#sk-container-id-1 div.sk-dashed-wrapped {\n",
              "  border: 1px dashed var(--sklearn-color-line);\n",
              "  margin: 0 0.4em 0.5em 0.4em;\n",
              "  box-sizing: border-box;\n",
              "  padding-bottom: 0.4em;\n",
              "  background-color: var(--sklearn-color-background);\n",
              "}\n",
              "\n",
              "#sk-container-id-1 div.sk-container {\n",
              "  /* jupyter's `normalize.less` sets `[hidden] { display: none; }`\n",
              "     but bootstrap.min.css set `[hidden] { display: none !important; }`\n",
              "     so we also need the `!important` here to be able to override the\n",
              "     default hidden behavior on the sphinx rendered scikit-learn.org.\n",
              "     See: https://github.com/scikit-learn/scikit-learn/issues/21755 */\n",
              "  display: inline-block !important;\n",
              "  position: relative;\n",
              "}\n",
              "\n",
              "#sk-container-id-1 div.sk-text-repr-fallback {\n",
              "  display: none;\n",
              "}\n",
              "\n",
              "div.sk-parallel-item,\n",
              "div.sk-serial,\n",
              "div.sk-item {\n",
              "  /* draw centered vertical line to link estimators */\n",
              "  background-image: linear-gradient(var(--sklearn-color-text-on-default-background), var(--sklearn-color-text-on-default-background));\n",
              "  background-size: 2px 100%;\n",
              "  background-repeat: no-repeat;\n",
              "  background-position: center center;\n",
              "}\n",
              "\n",
              "/* Parallel-specific style estimator block */\n",
              "\n",
              "#sk-container-id-1 div.sk-parallel-item::after {\n",
              "  content: \"\";\n",
              "  width: 100%;\n",
              "  border-bottom: 2px solid var(--sklearn-color-text-on-default-background);\n",
              "  flex-grow: 1;\n",
              "}\n",
              "\n",
              "#sk-container-id-1 div.sk-parallel {\n",
              "  display: flex;\n",
              "  align-items: stretch;\n",
              "  justify-content: center;\n",
              "  background-color: var(--sklearn-color-background);\n",
              "  position: relative;\n",
              "}\n",
              "\n",
              "#sk-container-id-1 div.sk-parallel-item {\n",
              "  display: flex;\n",
              "  flex-direction: column;\n",
              "}\n",
              "\n",
              "#sk-container-id-1 div.sk-parallel-item:first-child::after {\n",
              "  align-self: flex-end;\n",
              "  width: 50%;\n",
              "}\n",
              "\n",
              "#sk-container-id-1 div.sk-parallel-item:last-child::after {\n",
              "  align-self: flex-start;\n",
              "  width: 50%;\n",
              "}\n",
              "\n",
              "#sk-container-id-1 div.sk-parallel-item:only-child::after {\n",
              "  width: 0;\n",
              "}\n",
              "\n",
              "/* Serial-specific style estimator block */\n",
              "\n",
              "#sk-container-id-1 div.sk-serial {\n",
              "  display: flex;\n",
              "  flex-direction: column;\n",
              "  align-items: center;\n",
              "  background-color: var(--sklearn-color-background);\n",
              "  padding-right: 1em;\n",
              "  padding-left: 1em;\n",
              "}\n",
              "\n",
              "\n",
              "/* Toggleable style: style used for estimator/Pipeline/ColumnTransformer box that is\n",
              "clickable and can be expanded/collapsed.\n",
              "- Pipeline and ColumnTransformer use this feature and define the default style\n",
              "- Estimators will overwrite some part of the style using the `sk-estimator` class\n",
              "*/\n",
              "\n",
              "/* Pipeline and ColumnTransformer style (default) */\n",
              "\n",
              "#sk-container-id-1 div.sk-toggleable {\n",
              "  /* Default theme specific background. It is overwritten whether we have a\n",
              "  specific estimator or a Pipeline/ColumnTransformer */\n",
              "  background-color: var(--sklearn-color-background);\n",
              "}\n",
              "\n",
              "/* Toggleable label */\n",
              "#sk-container-id-1 label.sk-toggleable__label {\n",
              "  cursor: pointer;\n",
              "  display: flex;\n",
              "  width: 100%;\n",
              "  margin-bottom: 0;\n",
              "  padding: 0.5em;\n",
              "  box-sizing: border-box;\n",
              "  text-align: center;\n",
              "  align-items: start;\n",
              "  justify-content: space-between;\n",
              "  gap: 0.5em;\n",
              "}\n",
              "\n",
              "#sk-container-id-1 label.sk-toggleable__label .caption {\n",
              "  font-size: 0.6rem;\n",
              "  font-weight: lighter;\n",
              "  color: var(--sklearn-color-text-muted);\n",
              "}\n",
              "\n",
              "#sk-container-id-1 label.sk-toggleable__label-arrow:before {\n",
              "  /* Arrow on the left of the label */\n",
              "  content: \"▸\";\n",
              "  float: left;\n",
              "  margin-right: 0.25em;\n",
              "  color: var(--sklearn-color-icon);\n",
              "}\n",
              "\n",
              "#sk-container-id-1 label.sk-toggleable__label-arrow:hover:before {\n",
              "  color: var(--sklearn-color-text);\n",
              "}\n",
              "\n",
              "/* Toggleable content - dropdown */\n",
              "\n",
              "#sk-container-id-1 div.sk-toggleable__content {\n",
              "  max-height: 0;\n",
              "  max-width: 0;\n",
              "  overflow: hidden;\n",
              "  text-align: left;\n",
              "  /* unfitted */\n",
              "  background-color: var(--sklearn-color-unfitted-level-0);\n",
              "}\n",
              "\n",
              "#sk-container-id-1 div.sk-toggleable__content.fitted {\n",
              "  /* fitted */\n",
              "  background-color: var(--sklearn-color-fitted-level-0);\n",
              "}\n",
              "\n",
              "#sk-container-id-1 div.sk-toggleable__content pre {\n",
              "  margin: 0.2em;\n",
              "  border-radius: 0.25em;\n",
              "  color: var(--sklearn-color-text);\n",
              "  /* unfitted */\n",
              "  background-color: var(--sklearn-color-unfitted-level-0);\n",
              "}\n",
              "\n",
              "#sk-container-id-1 div.sk-toggleable__content.fitted pre {\n",
              "  /* unfitted */\n",
              "  background-color: var(--sklearn-color-fitted-level-0);\n",
              "}\n",
              "\n",
              "#sk-container-id-1 input.sk-toggleable__control:checked~div.sk-toggleable__content {\n",
              "  /* Expand drop-down */\n",
              "  max-height: 200px;\n",
              "  max-width: 100%;\n",
              "  overflow: auto;\n",
              "}\n",
              "\n",
              "#sk-container-id-1 input.sk-toggleable__control:checked~label.sk-toggleable__label-arrow:before {\n",
              "  content: \"▾\";\n",
              "}\n",
              "\n",
              "/* Pipeline/ColumnTransformer-specific style */\n",
              "\n",
              "#sk-container-id-1 div.sk-label input.sk-toggleable__control:checked~label.sk-toggleable__label {\n",
              "  color: var(--sklearn-color-text);\n",
              "  background-color: var(--sklearn-color-unfitted-level-2);\n",
              "}\n",
              "\n",
              "#sk-container-id-1 div.sk-label.fitted input.sk-toggleable__control:checked~label.sk-toggleable__label {\n",
              "  background-color: var(--sklearn-color-fitted-level-2);\n",
              "}\n",
              "\n",
              "/* Estimator-specific style */\n",
              "\n",
              "/* Colorize estimator box */\n",
              "#sk-container-id-1 div.sk-estimator input.sk-toggleable__control:checked~label.sk-toggleable__label {\n",
              "  /* unfitted */\n",
              "  background-color: var(--sklearn-color-unfitted-level-2);\n",
              "}\n",
              "\n",
              "#sk-container-id-1 div.sk-estimator.fitted input.sk-toggleable__control:checked~label.sk-toggleable__label {\n",
              "  /* fitted */\n",
              "  background-color: var(--sklearn-color-fitted-level-2);\n",
              "}\n",
              "\n",
              "#sk-container-id-1 div.sk-label label.sk-toggleable__label,\n",
              "#sk-container-id-1 div.sk-label label {\n",
              "  /* The background is the default theme color */\n",
              "  color: var(--sklearn-color-text-on-default-background);\n",
              "}\n",
              "\n",
              "/* On hover, darken the color of the background */\n",
              "#sk-container-id-1 div.sk-label:hover label.sk-toggleable__label {\n",
              "  color: var(--sklearn-color-text);\n",
              "  background-color: var(--sklearn-color-unfitted-level-2);\n",
              "}\n",
              "\n",
              "/* Label box, darken color on hover, fitted */\n",
              "#sk-container-id-1 div.sk-label.fitted:hover label.sk-toggleable__label.fitted {\n",
              "  color: var(--sklearn-color-text);\n",
              "  background-color: var(--sklearn-color-fitted-level-2);\n",
              "}\n",
              "\n",
              "/* Estimator label */\n",
              "\n",
              "#sk-container-id-1 div.sk-label label {\n",
              "  font-family: monospace;\n",
              "  font-weight: bold;\n",
              "  display: inline-block;\n",
              "  line-height: 1.2em;\n",
              "}\n",
              "\n",
              "#sk-container-id-1 div.sk-label-container {\n",
              "  text-align: center;\n",
              "}\n",
              "\n",
              "/* Estimator-specific */\n",
              "#sk-container-id-1 div.sk-estimator {\n",
              "  font-family: monospace;\n",
              "  border: 1px dotted var(--sklearn-color-border-box);\n",
              "  border-radius: 0.25em;\n",
              "  box-sizing: border-box;\n",
              "  margin-bottom: 0.5em;\n",
              "  /* unfitted */\n",
              "  background-color: var(--sklearn-color-unfitted-level-0);\n",
              "}\n",
              "\n",
              "#sk-container-id-1 div.sk-estimator.fitted {\n",
              "  /* fitted */\n",
              "  background-color: var(--sklearn-color-fitted-level-0);\n",
              "}\n",
              "\n",
              "/* on hover */\n",
              "#sk-container-id-1 div.sk-estimator:hover {\n",
              "  /* unfitted */\n",
              "  background-color: var(--sklearn-color-unfitted-level-2);\n",
              "}\n",
              "\n",
              "#sk-container-id-1 div.sk-estimator.fitted:hover {\n",
              "  /* fitted */\n",
              "  background-color: var(--sklearn-color-fitted-level-2);\n",
              "}\n",
              "\n",
              "/* Specification for estimator info (e.g. \"i\" and \"?\") */\n",
              "\n",
              "/* Common style for \"i\" and \"?\" */\n",
              "\n",
              ".sk-estimator-doc-link,\n",
              "a:link.sk-estimator-doc-link,\n",
              "a:visited.sk-estimator-doc-link {\n",
              "  float: right;\n",
              "  font-size: smaller;\n",
              "  line-height: 1em;\n",
              "  font-family: monospace;\n",
              "  background-color: var(--sklearn-color-background);\n",
              "  border-radius: 1em;\n",
              "  height: 1em;\n",
              "  width: 1em;\n",
              "  text-decoration: none !important;\n",
              "  margin-left: 0.5em;\n",
              "  text-align: center;\n",
              "  /* unfitted */\n",
              "  border: var(--sklearn-color-unfitted-level-1) 1pt solid;\n",
              "  color: var(--sklearn-color-unfitted-level-1);\n",
              "}\n",
              "\n",
              ".sk-estimator-doc-link.fitted,\n",
              "a:link.sk-estimator-doc-link.fitted,\n",
              "a:visited.sk-estimator-doc-link.fitted {\n",
              "  /* fitted */\n",
              "  border: var(--sklearn-color-fitted-level-1) 1pt solid;\n",
              "  color: var(--sklearn-color-fitted-level-1);\n",
              "}\n",
              "\n",
              "/* On hover */\n",
              "div.sk-estimator:hover .sk-estimator-doc-link:hover,\n",
              ".sk-estimator-doc-link:hover,\n",
              "div.sk-label-container:hover .sk-estimator-doc-link:hover,\n",
              ".sk-estimator-doc-link:hover {\n",
              "  /* unfitted */\n",
              "  background-color: var(--sklearn-color-unfitted-level-3);\n",
              "  color: var(--sklearn-color-background);\n",
              "  text-decoration: none;\n",
              "}\n",
              "\n",
              "div.sk-estimator.fitted:hover .sk-estimator-doc-link.fitted:hover,\n",
              ".sk-estimator-doc-link.fitted:hover,\n",
              "div.sk-label-container:hover .sk-estimator-doc-link.fitted:hover,\n",
              ".sk-estimator-doc-link.fitted:hover {\n",
              "  /* fitted */\n",
              "  background-color: var(--sklearn-color-fitted-level-3);\n",
              "  color: var(--sklearn-color-background);\n",
              "  text-decoration: none;\n",
              "}\n",
              "\n",
              "/* Span, style for the box shown on hovering the info icon */\n",
              ".sk-estimator-doc-link span {\n",
              "  display: none;\n",
              "  z-index: 9999;\n",
              "  position: relative;\n",
              "  font-weight: normal;\n",
              "  right: .2ex;\n",
              "  padding: .5ex;\n",
              "  margin: .5ex;\n",
              "  width: min-content;\n",
              "  min-width: 20ex;\n",
              "  max-width: 50ex;\n",
              "  color: var(--sklearn-color-text);\n",
              "  box-shadow: 2pt 2pt 4pt #999;\n",
              "  /* unfitted */\n",
              "  background: var(--sklearn-color-unfitted-level-0);\n",
              "  border: .5pt solid var(--sklearn-color-unfitted-level-3);\n",
              "}\n",
              "\n",
              ".sk-estimator-doc-link.fitted span {\n",
              "  /* fitted */\n",
              "  background: var(--sklearn-color-fitted-level-0);\n",
              "  border: var(--sklearn-color-fitted-level-3);\n",
              "}\n",
              "\n",
              ".sk-estimator-doc-link:hover span {\n",
              "  display: block;\n",
              "}\n",
              "\n",
              "/* \"?\"-specific style due to the `<a>` HTML tag */\n",
              "\n",
              "#sk-container-id-1 a.estimator_doc_link {\n",
              "  float: right;\n",
              "  font-size: 1rem;\n",
              "  line-height: 1em;\n",
              "  font-family: monospace;\n",
              "  background-color: var(--sklearn-color-background);\n",
              "  border-radius: 1rem;\n",
              "  height: 1rem;\n",
              "  width: 1rem;\n",
              "  text-decoration: none;\n",
              "  /* unfitted */\n",
              "  color: var(--sklearn-color-unfitted-level-1);\n",
              "  border: var(--sklearn-color-unfitted-level-1) 1pt solid;\n",
              "}\n",
              "\n",
              "#sk-container-id-1 a.estimator_doc_link.fitted {\n",
              "  /* fitted */\n",
              "  border: var(--sklearn-color-fitted-level-1) 1pt solid;\n",
              "  color: var(--sklearn-color-fitted-level-1);\n",
              "}\n",
              "\n",
              "/* On hover */\n",
              "#sk-container-id-1 a.estimator_doc_link:hover {\n",
              "  /* unfitted */\n",
              "  background-color: var(--sklearn-color-unfitted-level-3);\n",
              "  color: var(--sklearn-color-background);\n",
              "  text-decoration: none;\n",
              "}\n",
              "\n",
              "#sk-container-id-1 a.estimator_doc_link.fitted:hover {\n",
              "  /* fitted */\n",
              "  background-color: var(--sklearn-color-fitted-level-3);\n",
              "}\n",
              "</style><div id=\"sk-container-id-1\" class=\"sk-top-container\"><div class=\"sk-text-repr-fallback\"><pre>KNeighborsClassifier(n_neighbors=51)</pre><b>In a Jupyter environment, please rerun this cell to show the HTML representation or trust the notebook. <br />On GitHub, the HTML representation is unable to render, please try loading this page with nbviewer.org.</b></div><div class=\"sk-container\" hidden><div class=\"sk-item\"><div class=\"sk-estimator fitted sk-toggleable\"><input class=\"sk-toggleable__control sk-hidden--visually\" id=\"sk-estimator-id-1\" type=\"checkbox\" checked><label for=\"sk-estimator-id-1\" class=\"sk-toggleable__label fitted sk-toggleable__label-arrow\"><div><div>KNeighborsClassifier</div></div><div><a class=\"sk-estimator-doc-link fitted\" rel=\"noreferrer\" target=\"_blank\" href=\"https://scikit-learn.org/1.6/modules/generated/sklearn.neighbors.KNeighborsClassifier.html\">?<span>Documentation for KNeighborsClassifier</span></a><span class=\"sk-estimator-doc-link fitted\">i<span>Fitted</span></span></div></label><div class=\"sk-toggleable__content fitted\"><pre>KNeighborsClassifier(n_neighbors=51)</pre></div> </div></div></div></div>"
            ]
          },
          "metadata": {},
          "execution_count": 42
        }
      ]
    },
    {
      "cell_type": "code",
      "source": [
        "y_train_pred = knn_final.predict(X_train_scaled)"
      ],
      "metadata": {
        "id": "HGDaBevCyawR"
      },
      "execution_count": 43,
      "outputs": []
    },
    {
      "cell_type": "code",
      "source": [
        "print(\"F1 score KNN train_set:\", f1_score(y_train_pred, y_train, average='weighted'))"
      ],
      "metadata": {
        "colab": {
          "base_uri": "https://localhost:8080/"
        },
        "id": "cBBfjsBuymwA",
        "outputId": "18432662-ccae-4561-eb67-d2f5796a5802"
      },
      "execution_count": 44,
      "outputs": [
        {
          "output_type": "stream",
          "name": "stdout",
          "text": [
            "F1 score KNN train_set: 0.7327413937373641\n"
          ]
        }
      ]
    },
    {
      "cell_type": "code",
      "source": [
        "y_val_pred = knn_final.predict(X_val_scaled)"
      ],
      "metadata": {
        "id": "T_tshQk1zKpY"
      },
      "execution_count": 45,
      "outputs": []
    },
    {
      "cell_type": "code",
      "source": [
        "print(\"F1 score KNN val_set:\", f1_score(y_val_pred, y_val, average='weighted'))"
      ],
      "metadata": {
        "colab": {
          "base_uri": "https://localhost:8080/"
        },
        "id": "OsVabnQzzZ-1",
        "outputId": "395ddde0-53ef-44aa-fab2-4b0e05b9cd6b"
      },
      "execution_count": 46,
      "outputs": [
        {
          "output_type": "stream",
          "name": "stdout",
          "text": [
            "F1 score KNN val_set: 0.7300203978164286\n"
          ]
        }
      ]
    },
    {
      "cell_type": "code",
      "source": [
        "y_test_pred = knn_final.predict(X_test_scaled)"
      ],
      "metadata": {
        "id": "hjMIO9gzzkcB"
      },
      "execution_count": 47,
      "outputs": []
    },
    {
      "cell_type": "code",
      "source": [
        "print(\"F1 score KNN test_set escalado:\", f1_score(y_test_pred, y_test, average='weighted'))"
      ],
      "metadata": {
        "colab": {
          "base_uri": "https://localhost:8080/"
        },
        "id": "ax_qjFYTzs2m",
        "outputId": "dc3365a8-f531-4e54-c889-43865a39a960"
      },
      "execution_count": 48,
      "outputs": [
        {
          "output_type": "stream",
          "name": "stdout",
          "text": [
            "F1 score KNN test_set escalado: 0.7259326500258395\n"
          ]
        }
      ]
    }
  ]
}